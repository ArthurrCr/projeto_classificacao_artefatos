{
 "cells": [
  {
   "cell_type": "code",
   "execution_count": null,
   "metadata": {},
   "outputs": [
    {
     "name": "stdout",
     "output_type": "stream",
     "text": [
      "Using TensorFlow backend\n"
     ]
    }
   ],
   "source": [
    "import os\n",
    "import tensorflow as tf\n",
    "import numpy as np\n",
    "import matplotlib.pyplot as plt\n",
    "import sys\n",
    "\n",
    "# Para rodar no notebook\n",
    "%matplotlib inline\n",
    "\n",
    "# Adiciona o diretório src ao sys.path\n",
    "sys.path.append(os.path.abspath(os.path.join('..', 'src')))\n",
    "\n",
    "# Ignorar avisos desnecessários\n",
    "import warnings\n",
    "warnings.filterwarnings('ignore')\n",
    "\n",
    "# Importar as funções de data augmentation\n",
    "from funcoes_augmentation import load_and_preprocess_image, fixed_rotation, adjust_brightness, adjust_contrast,adjust_saturation\n",
    "from data_utils import create_datasets_efficientnet\n",
    "from models import create_model_b0, create_model_b1\n",
    "from training_utils import train_and_evaluate_model"
   ]
  },
  {
   "cell_type": "markdown",
   "metadata": {},
   "source": [
    "# Treinamento do Modelo de Classificação de Artefatos Arqueológicos\n",
    "\n",
    "Neste notebook, realizaremos o treinamento de um modelo de classificação de imagens de artefatos arqueológicos utilizando uma rede neural convolucional baseada na EfficientNet. O objetivo é avaliar o impacto de diferentes técnicas de data augmentation no desempenho do modelo, testando cada técnica individualmente e buscando os níveis ótimos antes de combiná-las.\n",
    "\n",
    "---"
   ]
  },
  {
   "cell_type": "code",
   "execution_count": 2,
   "metadata": {},
   "outputs": [],
   "source": [
    "# Diretórios de dados\n",
    "train_dir = '../dados/brutos/train'\n",
    "test_dir = '../dados/brutos/test'\n",
    "\n",
    "# Lista das classes\n",
    "classes = ['classe1_Vidro', 'classe2_Ceramica', 'classe3_Litico', 'classe4_Louca']\n",
    "\n",
    "# Mapeamento das classes para índices\n",
    "class_indices = {cls_name: idx for idx, cls_name in enumerate(classes)}\n",
    "class_names = list(class_indices.keys())\n",
    "\n",
    "# Parâmetros do modelo\n",
    "batch_size = 32\n",
    "img_height = 256\n",
    "img_width = 256\n",
    "num_classes = len(classes)\n",
    "epochs = 40"
   ]
  },
  {
   "cell_type": "code",
   "execution_count": 3,
   "metadata": {},
   "outputs": [
    {
     "name": "stdout",
     "output_type": "stream",
     "text": [
      "Número mínimo de imagens por classe para balanceamento: 311\n",
      "Conjunto de treinamento balanceado possui 1244 imagens.\n",
      "Distribuição de imagens por classe no conjunto de treinamento balanceado:\n",
      "  Classe 'classe1_Vidro': 311 imagens\n",
      "  Classe 'classe2_Ceramica': 311 imagens\n",
      "  Classe 'classe3_Litico': 311 imagens\n",
      "  Classe 'classe4_Louca': 311 imagens\n",
      "Conjunto de teste possui 384 imagens.\n"
     ]
    }
   ],
   "source": [
    "# Criar os datasets\n",
    "train_ds, test_ds = create_datasets_efficientnet(\n",
    "    train_dir=train_dir,\n",
    "    test_dir=test_dir,\n",
    "    classes=classes,\n",
    "    batch_size=batch_size,\n",
    "    img_height=img_height,\n",
    "    img_width=img_width\n",
    ")"
   ]
  },
  {
   "cell_type": "markdown",
   "metadata": {},
   "source": [
    "# Definição do Modelo"
   ]
  },
  {
   "cell_type": "markdown",
   "metadata": {},
   "source": [
    "Carregar o Modelo Base EfficientNet"
   ]
  },
  {
   "cell_type": "code",
   "execution_count": 5,
   "metadata": {},
   "outputs": [],
   "source": [
    "from tensorflow.keras.applications import EfficientNetB0\n",
    "from tensorflow.keras import layers, models\n",
    "\n",
    "def create_model(num_classes):\n",
    "    # Carregar o modelo base\n",
    "    base_model = EfficientNetB0(weights='imagenet', include_top=False, input_shape=(img_height, img_width, 3))\n",
    "    base_model.trainable = False  # Transfer learning - congelar as camadas convolucionais\n",
    "\n",
    "    # Construir a arquitetura do modelo\n",
    "    inputs = layers.Input(shape=(img_height, img_width, 3))\n",
    "    x = base_model(inputs, training=False)\n",
    "    x = layers.GlobalAveragePooling2D()(x)\n",
    "    x = layers.Dense(128, activation='relu')(x)\n",
    "    outputs = layers.Dense(num_classes, activation='softmax')(x)\n",
    "    model = models.Model(inputs, outputs)\n",
    "    return model"
   ]
  },
  {
   "cell_type": "code",
   "execution_count": null,
   "metadata": {},
   "outputs": [],
   "source": [
    "# Função para plotar o gráfico de loss e accuracy\n",
    "def plot_history(history):\n",
    "    # Plotar o Loss\n",
    "    plt.figure(figsize=(12, 5))\n",
    "\n",
    "    # Gráfico de Loss\n",
    "    plt.subplot(1, 2, 1)\n",
    "    plt.plot(history.history['loss'], label='Loss de Treinamento')\n",
    "    plt.plot(history.history['val_loss'], label='Loss de Validação')\n",
    "    plt.title('Loss durante o Treinamento e Validação')\n",
    "    plt.xlabel('Épocas')\n",
    "    plt.ylabel('Loss')\n",
    "    plt.legend()\n",
    "\n",
    "    # Gráfico de Accuracy\n",
    "    plt.subplot(1, 2, 2)\n",
    "    plt.plot(history.history['accuracy'], label='Acurácia de Treinamento')\n",
    "    plt.plot(history.history['val_accuracy'], label='Acurácia de Validação')\n",
    "    plt.title('Acurácia durante o Treinamento e Validação')\n",
    "    plt.xlabel('Épocas')\n",
    "    plt.ylabel('Acurácia')\n",
    "    plt.legend()\n",
    "\n",
    "    # Exibir os gráficos\n",
    "    plt.show()"
   ]
  },
  {
   "cell_type": "markdown",
   "metadata": {},
   "source": [
    "# Compilação do Modelo"
   ]
  },
  {
   "cell_type": "markdown",
   "metadata": {},
   "source": [
    "Definimos o otimizador, a função de perda e as métricas."
   ]
  },
  {
   "cell_type": "code",
   "execution_count": 6,
   "metadata": {},
   "outputs": [
    {
     "name": "stdout",
     "output_type": "stream",
     "text": [
      "Downloading data from https://storage.googleapis.com/keras-applications/efficientnetb0_notop.h5\n",
      "16705208/16705208 [==============================] - 2s 0us/step\n"
     ]
    }
   ],
   "source": [
    "# Criar o modelo\n",
    "model = create_model(num_classes)\n",
    "\n",
    "# Compilar o modelo\n",
    "model.compile(\n",
    "    optimizer=tf.keras.optimizers.Adam(),\n",
    "    loss='sparse_categorical_crossentropy',\n",
    "    metrics=['accuracy']\n",
    ")"
   ]
  },
  {
   "cell_type": "markdown",
   "metadata": {},
   "source": [
    "# Treinamento do Modelo"
   ]
  },
  {
   "cell_type": "markdown",
   "metadata": {},
   "source": [
    "Vamos treinar o modelo em diferentes cenários:\n",
    "\n",
    "- Baseline: Sem data augmentation.\n",
    "- Com cada técnica de data augmentation individualmente."
   ]
  },
  {
   "cell_type": "markdown",
   "metadata": {},
   "source": [
    "Criar o Dataset de Treinamento Sem Data Augmentation:"
   ]
  },
  {
   "cell_type": "code",
   "execution_count": 4,
   "metadata": {},
   "outputs": [],
   "source": [
    "# Dataset de treinamento sem data augmentation\n",
    "train_ds_baseline = train_ds"
   ]
  },
  {
   "cell_type": "markdown",
   "metadata": {},
   "source": [
    "Treinar o Modelo"
   ]
  },
  {
   "cell_type": "code",
   "execution_count": 5,
   "metadata": {},
   "outputs": [
    {
     "name": "stdout",
     "output_type": "stream",
     "text": [
      "Epoch 1/40\n",
      "39/39 [==============================] - ETA: 0s - loss: 1.7704 - accuracy: 0.3424"
     ]
    },
    {
     "ename": "ValueError",
     "evalue": "The following argument(s) are not supported with the native Keras format: ['options']",
     "output_type": "error",
     "traceback": [
      "\u001b[1;31m---------------------------------------------------------------------------\u001b[0m",
      "\u001b[1;31mValueError\u001b[0m                                Traceback (most recent call last)",
      "\u001b[1;32m<ipython-input-5-8b2792424bd1>\u001b[0m in \u001b[0;36m<module>\u001b[1;34m\u001b[0m\n\u001b[0;32m      1\u001b[0m \u001b[1;31m# Treinamento Baseline (sem aumento de dados)\u001b[0m\u001b[1;33m\u001b[0m\u001b[1;33m\u001b[0m\u001b[1;33m\u001b[0m\u001b[0m\n\u001b[1;32m----> 2\u001b[1;33m train_and_evaluate_model(\n\u001b[0m\u001b[0;32m      3\u001b[0m     \u001b[0mcreate_model_func\u001b[0m \u001b[1;33m=\u001b[0m \u001b[0mcreate_model_b0\u001b[0m\u001b[1;33m,\u001b[0m\u001b[1;33m\u001b[0m\u001b[1;33m\u001b[0m\u001b[0m\n\u001b[0;32m      4\u001b[0m     \u001b[0mtrain_dataset\u001b[0m\u001b[1;33m=\u001b[0m\u001b[0mtrain_ds_baseline\u001b[0m\u001b[1;33m,\u001b[0m\u001b[1;33m\u001b[0m\u001b[1;33m\u001b[0m\u001b[0m\n\u001b[0;32m      5\u001b[0m     \u001b[0mvalidation_dataset\u001b[0m\u001b[1;33m=\u001b[0m\u001b[0mtest_ds\u001b[0m\u001b[1;33m,\u001b[0m\u001b[1;33m\u001b[0m\u001b[1;33m\u001b[0m\u001b[0m\n",
      "\u001b[1;32mc:\\Users\\arthu\\Documents\\projeto_classificacao_artefatos\\src\\training_utils.py\u001b[0m in \u001b[0;36mtrain_and_evaluate_model\u001b[1;34m(create_model_func, train_dataset, validation_dataset, num_classes, epochs, history_path, model_checkpoint_path, patience, restore_best_weights, img_height, img_width)\u001b[0m\n\u001b[0;32m     92\u001b[0m \u001b[1;33m\u001b[0m\u001b[0m\n\u001b[0;32m     93\u001b[0m     \u001b[1;31m# Treinar o modelo\u001b[0m\u001b[1;33m\u001b[0m\u001b[1;33m\u001b[0m\u001b[1;33m\u001b[0m\u001b[0m\n\u001b[1;32m---> 94\u001b[1;33m     history = model.fit(\n\u001b[0m\u001b[0;32m     95\u001b[0m         \u001b[0mtrain_dataset\u001b[0m\u001b[1;33m,\u001b[0m\u001b[1;33m\u001b[0m\u001b[1;33m\u001b[0m\u001b[0m\n\u001b[0;32m     96\u001b[0m         \u001b[0mvalidation_data\u001b[0m\u001b[1;33m=\u001b[0m\u001b[0mvalidation_dataset\u001b[0m\u001b[1;33m,\u001b[0m\u001b[1;33m\u001b[0m\u001b[1;33m\u001b[0m\u001b[0m\n",
      "\u001b[1;32mc:\\Users\\arthu\\anaconda3\\lib\\site-packages\\keras\\src\\utils\\traceback_utils.py\u001b[0m in \u001b[0;36merror_handler\u001b[1;34m(*args, **kwargs)\u001b[0m\n\u001b[0;32m     68\u001b[0m             \u001b[1;31m# To get the full stack trace, call:\u001b[0m\u001b[1;33m\u001b[0m\u001b[1;33m\u001b[0m\u001b[1;33m\u001b[0m\u001b[0m\n\u001b[0;32m     69\u001b[0m             \u001b[1;31m# `tf.debugging.disable_traceback_filtering()`\u001b[0m\u001b[1;33m\u001b[0m\u001b[1;33m\u001b[0m\u001b[1;33m\u001b[0m\u001b[0m\n\u001b[1;32m---> 70\u001b[1;33m             \u001b[1;32mraise\u001b[0m \u001b[0me\u001b[0m\u001b[1;33m.\u001b[0m\u001b[0mwith_traceback\u001b[0m\u001b[1;33m(\u001b[0m\u001b[0mfiltered_tb\u001b[0m\u001b[1;33m)\u001b[0m \u001b[1;32mfrom\u001b[0m \u001b[1;32mNone\u001b[0m\u001b[1;33m\u001b[0m\u001b[1;33m\u001b[0m\u001b[0m\n\u001b[0m\u001b[0;32m     71\u001b[0m         \u001b[1;32mfinally\u001b[0m\u001b[1;33m:\u001b[0m\u001b[1;33m\u001b[0m\u001b[1;33m\u001b[0m\u001b[0m\n\u001b[0;32m     72\u001b[0m             \u001b[1;32mdel\u001b[0m \u001b[0mfiltered_tb\u001b[0m\u001b[1;33m\u001b[0m\u001b[1;33m\u001b[0m\u001b[0m\n",
      "\u001b[1;32mc:\\Users\\arthu\\anaconda3\\lib\\site-packages\\keras\\src\\saving\\saving_api.py\u001b[0m in \u001b[0;36msave_model\u001b[1;34m(model, filepath, overwrite, save_format, **kwargs)\u001b[0m\n\u001b[0;32m    140\u001b[0m                 \u001b[1;32mreturn\u001b[0m\u001b[1;33m\u001b[0m\u001b[1;33m\u001b[0m\u001b[0m\n\u001b[0;32m    141\u001b[0m         \u001b[1;32mif\u001b[0m \u001b[0mkwargs\u001b[0m\u001b[1;33m:\u001b[0m\u001b[1;33m\u001b[0m\u001b[1;33m\u001b[0m\u001b[0m\n\u001b[1;32m--> 142\u001b[1;33m             raise ValueError(\n\u001b[0m\u001b[0;32m    143\u001b[0m                 \u001b[1;34m\"The following argument(s) are not supported \"\u001b[0m\u001b[1;33m\u001b[0m\u001b[1;33m\u001b[0m\u001b[0m\n\u001b[0;32m    144\u001b[0m                 \u001b[1;34mf\"with the native Keras format: {list(kwargs.keys())}\"\u001b[0m\u001b[1;33m\u001b[0m\u001b[1;33m\u001b[0m\u001b[0m\n",
      "\u001b[1;31mValueError\u001b[0m: The following argument(s) are not supported with the native Keras format: ['options']"
     ]
    }
   ],
   "source": [
    "# Treinamento Baseline (sem aumento de dados)\n",
    "train_and_evaluate_model(\n",
    "    create_model_func = create_model_b0,\n",
    "    train_dataset=train_ds_baseline,\n",
    "    validation_dataset=test_ds,\n",
    "    num_classes=num_classes,\n",
    "    epochs=epochs,\n",
    "    history_path='training_histories/history_baseline.json',\n",
    "    model_checkpoint_path='best_model_baseline.keras',\n",
    "    patience=40,\n",
    "    restore_best_weights=True\n",
    ")"
   ]
  },
  {
   "cell_type": "code",
   "execution_count": null,
   "metadata": {},
   "outputs": [],
   "source": [
    "# Dicionário para armazenar os históricos carregados\n",
    "histories = {}\n",
    "\n",
    "# Carregar histórico Baseline\n",
    "histories['baseline'] = load_history('training_histories/history_baseline.json')\n",
    "\n",
    "# Envolver o histórico 'baseline' em um dicionário\n",
    "baseline_history = {'baseline': histories['baseline']}"
   ]
  },
  {
   "cell_type": "code",
   "execution_count": null,
   "metadata": {},
   "outputs": [],
   "source": [
    "# Plotar apenas o histórico 'baseline'\n",
    "plot_histories(baseline_history, metric='accuracy')\n",
    "plot_histories(baseline_history, metric='loss')"
   ]
  },
  {
   "cell_type": "markdown",
   "metadata": {},
   "source": [
    "# Treinamento com Data Augmentation Individualmente"
   ]
  },
  {
   "cell_type": "code",
   "execution_count": 9,
   "metadata": {},
   "outputs": [],
   "source": [
    "def create_augmented_dataset(augmentation_function):\n",
    "    ds = tf.data.Dataset.from_tensor_slices((train_image_paths, train_labels))\n",
    "    ds = ds.map(\n",
    "        lambda x, y: (load_and_preprocess_image(x), y)\n",
    "    ).map(\n",
    "        lambda x, y: (augmentation_function(x), y)\n",
    "    ).shuffle(1000).batch(batch_size).prefetch(tf.data.AUTOTUNE)\n",
    "    return ds"
   ]
  },
  {
   "cell_type": "markdown",
   "metadata": {},
   "source": [
    "## Treinamento com Rotação Aleatória de ±10°"
   ]
  },
  {
   "cell_type": "code",
   "execution_count": null,
   "metadata": {},
   "outputs": [],
   "source": [
    "# Função de data augmentation específica\n",
    "def augmentation_rotation_10(image):\n",
    "    return random_rotation(image, max_angle=10)\n",
    "\n",
    "# Criar o dataset\n",
    "train_ds_rotation_10 = create_augmented_dataset(augmentation_rotation_10)\n",
    "\n",
    "# Recriar e compilar o modelo\n",
    "model = create_model(num_classes)\n",
    "model.compile(\n",
    "    optimizer=tf.keras.optimizers.Adam(),\n",
    "    loss='sparse_categorical_crossentropy',\n",
    "    metrics=['accuracy']\n",
    ")\n",
    "\n",
    "# Treinar o modelo\n",
    "history_rotation_10 = model.fit(\n",
    "    train_ds_rotation_10,\n",
    "    validation_data=test_ds,\n",
    "    epochs=epochs\n",
    ")\n",
    "\n",
    "# Salvar o histórico\n",
    "histories['rotation_10'] = history_rotation_10"
   ]
  },
  {
   "cell_type": "markdown",
   "metadata": {},
   "source": [
    "## Treinamento com Rotação Aleatória de ±15°"
   ]
  },
  {
   "cell_type": "code",
   "execution_count": null,
   "metadata": {},
   "outputs": [],
   "source": [
    "# Função de data augmentation específica\n",
    "def augmentation_rotation_15(image):\n",
    "    return random_rotation(image, max_angle=15)\n",
    "\n",
    "# Criar o dataset\n",
    "train_ds_rotation_15 = create_augmented_dataset(augmentation_rotation_15)\n",
    "\n",
    "# Recriar e compilar o modelo\n",
    "model = create_model(num_classes)\n",
    "model.compile(\n",
    "    optimizer=tf.keras.optimizers.Adam(),\n",
    "    loss='sparse_categorical_crossentropy',\n",
    "    metrics=['accuracy']\n",
    ")\n",
    "\n",
    "# Treinar o modelo\n",
    "history_rotation_15 = model.fit(\n",
    "    train_ds_rotation_15,\n",
    "    validation_data=test_ds,\n",
    "    epochs=epochs\n",
    ")\n",
    "\n",
    "# Salvar o histórico\n",
    "histories['rotation_15'] = history_rotation_15"
   ]
  },
  {
   "cell_type": "markdown",
   "metadata": {},
   "source": [
    "## Treinamento com Rotação Aleatória de ±20°"
   ]
  },
  {
   "cell_type": "code",
   "execution_count": null,
   "metadata": {},
   "outputs": [],
   "source": [
    "def augmentation_rotation_20(image):\n",
    "    return random_rotation(image, max_angle=20)\n",
    "\n",
    "train_ds_rotation_20 = create_augmented_dataset(augmentation_rotation_20)\n",
    "\n",
    "model = create_model(num_classes)\n",
    "model.compile(\n",
    "    optimizer=tf.keras.optimizers.Adam(),\n",
    "    loss='sparse_categorical_crossentropy',\n",
    "    metrics=['accuracy']\n",
    ")\n",
    "\n",
    "history_rotation_20 = model.fit(\n",
    "    train_ds_rotation_20,\n",
    "    validation_data=test_ds,\n",
    "    epochs=epochs\n",
    ")\n",
    "\n",
    "histories['rotation_20'] = history_rotation_20"
   ]
  },
  {
   "cell_type": "markdown",
   "metadata": {},
   "source": [
    "## Treinamento com Rotação Fixa de +10°"
   ]
  },
  {
   "cell_type": "code",
   "execution_count": null,
   "metadata": {},
   "outputs": [],
   "source": [
    "def augmentation_fixed_rotation_plus_10(image):\n",
    "    return fixed_rotation(image, angle=10)\n",
    "\n",
    "train_ds_fixed_rotation_plus_10 = create_augmented_dataset(augmentation_fixed_rotation_plus_10)\n",
    "\n",
    "model = create_model(num_classes)\n",
    "model.compile(\n",
    "    optimizer=tf.keras.optimizers.Adam(),\n",
    "    loss='sparse_categorical_crossentropy',\n",
    "    metrics=['accuracy']\n",
    ")\n",
    "\n",
    "history_fixed_rotation_plus_10 = model.fit(\n",
    "    train_ds_fixed_rotation_plus_10,\n",
    "    validation_data=test_ds,\n",
    "    epochs=epochs\n",
    ")\n",
    "\n",
    "histories['fixed_rotation_plus_10'] = history_fixed_rotation_plus_10"
   ]
  },
  {
   "cell_type": "markdown",
   "metadata": {},
   "source": [
    "## Treinamento com Rotação Fixa de -10°"
   ]
  },
  {
   "cell_type": "code",
   "execution_count": null,
   "metadata": {},
   "outputs": [],
   "source": [
    "def augmentation_fixed_rotation_minus_10(image):\n",
    "    return fixed_rotation(image, angle=-10)\n",
    "\n",
    "train_ds_fixed_rotation_minus_10 = create_augmented_dataset(augmentation_fixed_rotation_minus_10)\n",
    "\n",
    "model = create_model(num_classes)\n",
    "model.compile(\n",
    "    optimizer=tf.keras.optimizers.Adam(),\n",
    "    loss='sparse_categorical_crossentropy',\n",
    "    metrics=['accuracy']\n",
    ")\n",
    "\n",
    "history_fixed_rotation_minus_10 = model.fit(\n",
    "    train_ds_fixed_rotation_minus_10,\n",
    "    validation_data=test_ds,\n",
    "    epochs=epochs\n",
    ")\n",
    "\n",
    "histories['fixed_rotation_minus_10'] = history_fixed_rotation_minus_10"
   ]
  },
  {
   "cell_type": "markdown",
   "metadata": {},
   "source": [
    "## Treinamento com Brilho +10%"
   ]
  },
  {
   "cell_type": "code",
   "execution_count": null,
   "metadata": {},
   "outputs": [],
   "source": [
    "def augmentation_brightness_10(image):\n",
    "    return adjust_brightness(image, delta=0.1)\n",
    "\n",
    "train_ds_brightness_10 = create_augmented_dataset(augmentation_brightness_10)\n",
    "\n",
    "model = create_model(num_classes)\n",
    "model.compile(\n",
    "    optimizer=tf.keras.optimizers.Adam(),\n",
    "    loss='sparse_categorical_crossentropy',\n",
    "    metrics=['accuracy']\n",
    ")\n",
    "\n",
    "history_brightness_10 = model.fit(\n",
    "    train_ds_brightness_10,\n",
    "    validation_data=test_ds,\n",
    "    epochs=epochs\n",
    ")\n",
    "\n",
    "histories['brightness_10'] = history_brightness_10"
   ]
  },
  {
   "cell_type": "markdown",
   "metadata": {},
   "source": [
    "## Treinamento com Brilho +20%"
   ]
  },
  {
   "cell_type": "code",
   "execution_count": null,
   "metadata": {},
   "outputs": [],
   "source": [
    "def augmentation_brightness_20(image):\n",
    "    return adjust_brightness(image, delta=0.2)\n",
    "\n",
    "train_ds_brightness_20 = create_augmented_dataset(augmentation_brightness_20)\n",
    "\n",
    "model = create_model(num_classes)\n",
    "model.compile(\n",
    "    optimizer=tf.keras.optimizers.Adam(),\n",
    "    loss='sparse_categorical_crossentropy',\n",
    "    metrics=['accuracy']\n",
    ")\n",
    "\n",
    "history_brightness_20 = model.fit(\n",
    "    train_ds_brightness_20,\n",
    "    validation_data=test_ds,\n",
    "    epochs=epochs\n",
    ")\n",
    "\n",
    "histories['brightness_20'] = history_brightness_20"
   ]
  },
  {
   "cell_type": "markdown",
   "metadata": {},
   "source": [
    "## Treinamento com Brilho +30%"
   ]
  },
  {
   "cell_type": "code",
   "execution_count": null,
   "metadata": {},
   "outputs": [],
   "source": [
    "def augmentation_brightness_30(image):\n",
    "    return adjust_brightness(image, delta=0.3)\n",
    "\n",
    "train_ds_brightness_30 = create_augmented_dataset(augmentation_brightness_30)\n",
    "\n",
    "model = create_model(num_classes)\n",
    "model.compile(\n",
    "    optimizer=tf.keras.optimizers.Adam(),\n",
    "    loss='sparse_categorical_crossentropy',\n",
    "    metrics=['accuracy']\n",
    ")\n",
    "\n",
    "history_brightness_30 = model.fit(\n",
    "    train_ds_brightness_30,\n",
    "    validation_data=test_ds,\n",
    "    epochs=epochs\n",
    ")\n",
    "\n",
    "histories['brightness_30'] = history_brightness_30"
   ]
  },
  {
   "cell_type": "markdown",
   "metadata": {},
   "source": [
    "## Treinamento com Espelhamento Horizontal "
   ]
  },
  {
   "cell_type": "code",
   "execution_count": null,
   "metadata": {},
   "outputs": [],
   "source": [
    "def augmentation_flip_horizontal(image):\n",
    "    return flip_horizontal(image)\n",
    "\n",
    "train_ds_flip_horizontal = create_augmented_dataset(augmentation_flip_horizontal)\n",
    "\n",
    "model = create_model(num_classes)\n",
    "model.compile(\n",
    "    optimizer=tf.keras.optimizers.Adam(),\n",
    "    loss='sparse_categorical_crossentropy',\n",
    "    metrics=['accuracy']\n",
    ")\n",
    "\n",
    "history_flip_horizontal = model.fit(\n",
    "    train_ds_flip_horizontal,\n",
    "    validation_data=test_ds,\n",
    "    epochs=epochs\n",
    ")\n",
    "\n",
    "histories['flip_horizontal'] = history_flip_horizontal"
   ]
  },
  {
   "cell_type": "markdown",
   "metadata": {},
   "source": [
    "## Treinamento com Espelhamento Vertical"
   ]
  },
  {
   "cell_type": "code",
   "execution_count": null,
   "metadata": {},
   "outputs": [],
   "source": [
    "def augmentation_flip_vertical(image):\n",
    "    return flip_vertical(image)\n",
    "\n",
    "train_ds_flip_vertical = create_augmented_dataset(augmentation_flip_vertical)\n",
    "\n",
    "model = create_model(num_classes)\n",
    "model.compile(\n",
    "    optimizer=tf.keras.optimizers.Adam(),\n",
    "    loss='sparse_categorical_crossentropy',\n",
    "    metrics=['accuracy']\n",
    ")\n",
    "\n",
    "history_flip_vertical = model.fit(\n",
    "    train_ds_flip_vertical,\n",
    "    validation_data=test_ds,\n",
    "    epochs=epochs\n",
    ")\n",
    "\n",
    "histories['flip_vertical'] = history_flip_vertical"
   ]
  },
  {
   "cell_type": "markdown",
   "metadata": {},
   "source": [
    "## Treinamento com Zoom entre 1.0 e 1.2 até 20%"
   ]
  },
  {
   "cell_type": "code",
   "execution_count": null,
   "metadata": {},
   "outputs": [],
   "source": [
    "def augmentation_zoom_1_2(image):\n",
    "    return random_zoom(image, zoom_range=(1.0, 1.2))\n",
    "\n",
    "train_ds_zoom_1_2 = create_augmented_dataset(augmentation_zoom_1_2)\n",
    "\n",
    "model = create_model(num_classes)\n",
    "model.compile(\n",
    "    optimizer=tf.keras.optimizers.Adam(),\n",
    "    loss='sparse_categorical_crossentropy',\n",
    "    metrics=['accuracy']\n",
    ")\n",
    "\n",
    "history_zoom_1_2 = model.fit(\n",
    "    train_ds_zoom_1_2,\n",
    "    validation_data=test_ds,\n",
    "    epochs=epochs\n",
    ")\n",
    "\n",
    "histories['zoom_1_2'] = history_zoom_1_2"
   ]
  },
  {
   "cell_type": "markdown",
   "metadata": {},
   "source": [
    "## Treinamento com Zoom entre 1.0 e 1.5 até 50%"
   ]
  },
  {
   "cell_type": "code",
   "execution_count": null,
   "metadata": {},
   "outputs": [],
   "source": [
    "def augmentation_zoom_1_5(image):\n",
    "    return random_zoom(image, zoom_range=(1.0, 1.5))\n",
    "\n",
    "train_ds_zoom_1_5 = create_augmented_dataset(augmentation_zoom_1_5)\n",
    "\n",
    "model = create_model(num_classes)\n",
    "model.compile(\n",
    "    optimizer=tf.keras.optimizers.Adam(),\n",
    "    loss='sparse_categorical_crossentropy',\n",
    "    metrics=['accuracy']\n",
    ")\n",
    "\n",
    "history_zoom_1_5 = model.fit(\n",
    "    train_ds_zoom_1_5,\n",
    "    validation_data=test_ds,\n",
    "    epochs=epochs\n",
    ")\n",
    "\n",
    "histories['zoom_1_5'] = history_zoom_1_5\n"
   ]
  },
  {
   "cell_type": "markdown",
   "metadata": {},
   "source": [
    "## Treinamento com Cisalhamento de 10°"
   ]
  },
  {
   "cell_type": "code",
   "execution_count": null,
   "metadata": {},
   "outputs": [],
   "source": [
    "def augmentation_shear_10(image):\n",
    "    return random_shear(image, shear_level=10)\n",
    "\n",
    "train_ds_shear_10 = create_augmented_dataset(augmentation_shear_10)\n",
    "\n",
    "model = create_model(num_classes)\n",
    "model.compile(\n",
    "    optimizer=tf.keras.optimizers.Adam(),\n",
    "    loss='sparse_categorical_crossentropy',\n",
    "    metrics=['accuracy']\n",
    ")\n",
    "\n",
    "history_shear_10 = model.fit(\n",
    "    train_ds_shear_10,\n",
    "    validation_data=test_ds,\n",
    "    epochs=epochs\n",
    ")\n",
    "\n",
    "histories['shear_10'] = history_shear_10"
   ]
  },
  {
   "cell_type": "markdown",
   "metadata": {},
   "source": [
    "## Treinamento com Cisalhamento de 20°"
   ]
  },
  {
   "cell_type": "code",
   "execution_count": null,
   "metadata": {},
   "outputs": [],
   "source": [
    "def augmentation_shear_20(image):\n",
    "    return random_shear(image, shear_level=20)\n",
    "\n",
    "train_ds_shear_20 = create_augmented_dataset(augmentation_shear_20)\n",
    "\n",
    "model = create_model(num_classes)\n",
    "model.compile(\n",
    "    optimizer=tf.keras.optimizers.Adam(),\n",
    "    loss='sparse_categorical_crossentropy',\n",
    "    metrics=['accuracy']\n",
    ")\n",
    "\n",
    "history_shear_20 = model.fit(\n",
    "    train_ds_shear_20,\n",
    "    validation_data=test_ds,\n",
    "    epochs=epochs\n",
    ")\n",
    "\n",
    "histories['shear_20'] = history_shear_20"
   ]
  },
  {
   "cell_type": "markdown",
   "metadata": {},
   "source": [
    "## Treinamento com Ajuste Aleatório de Contraste "
   ]
  },
  {
   "cell_type": "code",
   "execution_count": null,
   "metadata": {},
   "outputs": [],
   "source": [
    "def augmentation_contrast(image):\n",
    "    return random_contrast(image, lower=0.8, upper=1.2)\n",
    "\n",
    "train_ds_contrast = create_augmented_dataset(augmentation_contrast)\n",
    "\n",
    "model = create_model(num_classes)\n",
    "model.compile(\n",
    "    optimizer=tf.keras.optimizers.Adam(),\n",
    "    loss='sparse_categorical_crossentropy',\n",
    "    metrics=['accuracy']\n",
    ")\n",
    "\n",
    "history_contrast = model.fit(\n",
    "    train_ds_contrast,\n",
    "    validation_data=test_ds,\n",
    "    epochs=epochs\n",
    ")\n",
    "\n",
    "histories['contrast'] = history_contrast"
   ]
  },
  {
   "cell_type": "markdown",
   "metadata": {},
   "source": [
    "## Treinamento com Ajuste Aleatório de Saturação"
   ]
  },
  {
   "cell_type": "code",
   "execution_count": null,
   "metadata": {},
   "outputs": [],
   "source": [
    "def augmentation_saturation(image):\n",
    "    return random_saturation(image, lower=0.8, upper=1.2)\n",
    "\n",
    "train_ds_saturation = create_augmented_dataset(augmentation_saturation)\n",
    "\n",
    "model = create_model(num_classes)\n",
    "model.compile(\n",
    "    optimizer=tf.keras.optimizers.Adam(),\n",
    "    loss='sparse_categorical_crossentropy',\n",
    "    metrics=['accuracy']\n",
    ")\n",
    "\n",
    "history_saturation = model.fit(\n",
    "    train_ds_saturation,\n",
    "    validation_data=test_ds,\n",
    "    epochs=epochs\n",
    ")\n",
    "\n",
    "histories['saturation'] = history_saturation"
   ]
  },
  {
   "cell_type": "markdown",
   "metadata": {},
   "source": [
    "## Treinamento com Ajuste Aleatório de Matiz "
   ]
  },
  {
   "cell_type": "code",
   "execution_count": null,
   "metadata": {},
   "outputs": [],
   "source": [
    "def augmentation_hue(image):\n",
    "    return random_hue(image, max_delta=0.02)\n",
    "\n",
    "train_ds_hue = create_augmented_dataset(augmentation_hue)\n",
    "\n",
    "model = create_model(num_classes)\n",
    "model.compile(\n",
    "    optimizer=tf.keras.optimizers.Adam(),\n",
    "    loss='sparse_categorical_crossentropy',\n",
    "    metrics=['accuracy']\n",
    ")\n",
    "\n",
    "history_hue = model.fit(\n",
    "    train_ds_hue,\n",
    "    validation_data=test_ds,\n",
    "    epochs=epochs\n",
    ")\n",
    "\n",
    "histories['hue'] = history_hue"
   ]
  },
  {
   "cell_type": "markdown",
   "metadata": {},
   "source": [
    "## Treinamento com Adição de Ruído Gaussiano"
   ]
  },
  {
   "cell_type": "code",
   "execution_count": null,
   "metadata": {},
   "outputs": [],
   "source": [
    "def augmentation_gaussian_noise(image):\n",
    "    return add_gaussian_noise(image, mean=0.0, stddev=0.05)\n",
    "\n",
    "train_ds_gaussian_noise = create_augmented_dataset(augmentation_gaussian_noise)\n",
    "\n",
    "model = create_model(num_classes)\n",
    "model.compile(\n",
    "    optimizer=tf.keras.optimizers.Adam(),\n",
    "    loss='sparse_categorical_crossentropy',\n",
    "    metrics=['accuracy']\n",
    ")\n",
    "\n",
    "history_gaussian_noise = model.fit(\n",
    "    train_ds_gaussian_noise,\n",
    "    validation_data=test_ds,\n",
    "    epochs=epochs\n",
    ")\n",
    "\n",
    "histories['gaussian_noise'] = history_gaussian_noise"
   ]
  },
  {
   "cell_type": "markdown",
   "metadata": {},
   "source": [
    "## Treinamento com Conversão para Escala de Cinza 10% de probabilidade"
   ]
  },
  {
   "cell_type": "code",
   "execution_count": null,
   "metadata": {},
   "outputs": [],
   "source": [
    "def augmentation_grayscale(image):\n",
    "    return random_grayscale(image, probability=0.1)\n",
    "\n",
    "train_ds_grayscale = create_augmented_dataset(augmentation_grayscale)\n",
    "\n",
    "model = create_model(num_classes)\n",
    "model.compile(\n",
    "    optimizer=tf.keras.optimizers.Adam(),\n",
    "    loss='sparse_categorical_crossentropy',\n",
    "    metrics=['accuracy']\n",
    ")\n",
    "\n",
    "history_grayscale = model.fit(\n",
    "    train_ds_grayscale,\n",
    "    validation_data=test_ds,\n",
    "    epochs=epochs\n",
    ")\n",
    "\n",
    "histories['grayscale'] = history_grayscale"
   ]
  },
  {
   "cell_type": "markdown",
   "metadata": {},
   "source": [
    "# Avaliação dos Resultados"
   ]
  },
  {
   "cell_type": "code",
   "execution_count": 11,
   "metadata": {},
   "outputs": [],
   "source": [
    "def plot_metric(histories, metric, title):\n",
    "    plt.figure(figsize=(12, 6))\n",
    "    for name, history in histories.items():\n",
    "        plt.plot(history.history[metric], label=f'{name} - treino')\n",
    "        plt.plot(history.history[f'val_{metric}'], label=f'{name} - val')\n",
    "    plt.title(title)\n",
    "    plt.xlabel('Épocas')\n",
    "    plt.ylabel(metric.capitalize())\n",
    "    plt.legend()\n",
    "    plt.show()\n"
   ]
  },
  {
   "cell_type": "code",
   "execution_count": 12,
   "metadata": {},
   "outputs": [
    {
     "data": {
      "image/png": "[encoded data removed]",
      "text/plain": [
       "<Figure size 864x432 with 1 Axes>"
      ]
     },
     "metadata": {
      "needs_background": "light"
     },
     "output_type": "display_data"
    }
   ],
   "source": [
    "plot_metric(histories, 'accuracy', 'Comparação da Acurácia entre Experimentos')"
   ]
  },
  {
   "cell_type": "code",
   "execution_count": 13,
   "metadata": {},
   "outputs": [
    {
     "data": {
      "image/png": "[encoded data removed]",
      "text/plain": [
       "<Figure size 864x432 with 1 Axes>"
      ]
     },
     "metadata": {
      "needs_background": "light"
     },
     "output_type": "display_data"
    }
   ],
   "source": [
    "plot_metric(histories, 'loss', 'Comparação da Perda entre Experimentos')"
   ]
  },
  {
   "cell_type": "markdown",
   "metadata": {},
   "source": [
    "# Combinação das Melhores Técnicas"
   ]
  },
  {
   "cell_type": "markdown",
   "metadata": {},
   "source": [
    "Agora, vamos treinar o modelo combinando as técnicas que apresentaram os melhores resultados."
   ]
  },
  {
   "cell_type": "code",
   "execution_count": null,
   "metadata": {},
   "outputs": [],
   "source": [
    "def combined_augmentation(image):\n",
    "    image = random_rotation(image, max_angle=15)\n",
    "    image = flip_horizontal(image)\n",
    "    image = random_shear(image, shear_level=10 * np.pi / 180)\n",
    "    return image\n",
    "\n",
    "def create_combined_dataset():\n",
    "    ds = tf.data.Dataset.from_tensor_slices((train_image_paths, train_labels))\n",
    "    ds = ds.map(\n",
    "        lambda x, y: (load_and_preprocess_image(x), y)\n",
    "    ).map(\n",
    "        lambda x, y: (combined_augmentation(x), y)\n",
    "    ).shuffle(1000).batch(batch_size).prefetch(tf.data.AUTOTUNE)\n",
    "    return ds\n",
    "\n",
    "# Criar o dataset combinado\n",
    "train_ds_combined = create_combined_dataset()"
   ]
  },
  {
   "cell_type": "markdown",
   "metadata": {},
   "source": [
    "Treinar o Modelo com o Dataset Combinado"
   ]
  },
  {
   "cell_type": "code",
   "execution_count": null,
   "metadata": {},
   "outputs": [],
   "source": [
    "# Recriar e compilar o modelo\n",
    "model = create_model(num_classes)\n",
    "model.compile(\n",
    "    optimizer=tf.keras.optimizers.Adam(),\n",
    "    loss='sparse_categorical_crossentropy',\n",
    "    metrics=['accuracy']\n",
    ")\n",
    "\n",
    "# Treinar o modelo\n",
    "history_combined = model.fit(\n",
    "    train_ds_combined,\n",
    "    validation_data=test_ds,\n",
    "    epochs=epochs\n",
    ")\n",
    "\n",
    "# Salvar o histórico\n",
    "histories['combined'] = history_combined"
   ]
  },
  {
   "cell_type": "markdown",
   "metadata": {},
   "source": [
    "Avaliar os Resultados com a Combinação"
   ]
  },
  {
   "cell_type": "code",
   "execution_count": null,
   "metadata": {},
   "outputs": [],
   "source": [
    "# Plotar as curvas de acurácia\n",
    "plot_metric({'baseline': histories['baseline'], 'combined': histories['combined']}, 'accuracy', 'Comparação de Acurácia - Baseline vs Combinado')\n",
    "\n",
    "# Plotar as curvas de perda\n",
    "plot_metric({'baseline': histories['baseline'], 'combined': histories['combined']}, 'loss', 'Comparação de Perda - Baseline vs Combinado')"
   ]
  }
 ],
 "metadata": {
  "kernelspec": {
   "display_name": "base",
   "language": "python",
   "name": "python3"
  },
  "language_info": {
   "codemirror_mode": {
    "name": "ipython",
    "version": 3
   },
   "file_extension": ".py",
   "mimetype": "text/x-python",
   "name": "python",
   "nbconvert_exporter": "python",
   "pygments_lexer": "ipython3",
   "version": "3.8.8"
  }
 },
 "nbformat": 4,
 "nbformat_minor": 2
}
